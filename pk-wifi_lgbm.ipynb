{
  "nbformat": 4,
  "nbformat_minor": 0,
  "metadata": {
    "colab": {
      "name": "wifiLgbm.ipynb",
      "provenance": []
    },
    "kernelspec": {
      "name": "python3",
      "display_name": "Python 3"
    },
    "language_info": {
      "name": "python"
    }
  },
  "cells": [
    {
      "cell_type": "code",
      "execution_count": null,
      "metadata": {
        "id": "cm_cW7psYlc1"
      },
      "outputs": [],
      "source": [
        "import numpy as np\n",
        "import pandas as pd\n",
        "import lightgbm as lgb\n",
        "import glob\n",
        "import os\n",
        "import random\n",
        "\n",
        "import psutil\n",
        "import random\n",
        "import time\n",
        "import sys\n",
        "import math\n",
        "from contextlib import contextmanager\n",
        "#reference: https://www.kaggle.com/c/indoor-location-navigation/discussion/215445"
      ]
    },
    {
      "cell_type": "code",
      "source": [
        "feature_dir = \"../input/indoor-navigation-and-location-wifi-features/wifi_features\""
      ],
      "metadata": {
        "id": "28429fp7Yxw2"
      },
      "execution_count": null,
      "outputs": []
    },
    {
      "cell_type": "code",
      "source": [
        "#wifi features in format of rows = measurements and \n",
        "#cols = wifi signal from each access point"
      ],
      "metadata": {
        "id": "0V8Nrh-KZEYN"
      },
      "execution_count": null,
      "outputs": []
    },
    {
      "cell_type": "code",
      "source": [
        "predictions = list()\n",
        "\n",
        "data = pd.read_csv(train_files[0], index_col=0)\n",
        "\n",
        "x_train = data.iloc[:,:-4]\n",
        "y_trainy = data.iloc[:,-3]\n",
        "y_trainx = data.iloc[:,-4]\n",
        "y_trainf = data.iloc[:,-2]"
      ],
      "metadata": {
        "id": "MEo-v2tmY2RV"
      },
      "execution_count": null,
      "outputs": []
    },
    {
      "cell_type": "code",
      "source": [
        "from sklearn.model_selection import KFold\n",
        "N_SPLITS = 20\n",
        "SEED = 1234\n",
        "\n",
        "kf = KFold(n_splits=N_SPLITS, shuffle=True, random_state=SEED)\n",
        "for fold, (trainid, testid) in enumerate(kf.split(data.iloc[:, :-4])):\n",
        "    random.seed(1234)\n",
        "    np.random.seed(1234)\n",
        "    X_train = data.iloc[trainid, :-4]\n",
        "    y_trainx = data.iloc[trainid, -4]\n",
        "    y_trainy = data.iloc[trainid, -3]\n",
        "\n",
        "    X_valid = data.iloc[testid, :-4]\n",
        "    y_validx = data.iloc[testid, -4]\n",
        "    y_validy = data.iloc[testid, -3]\n",
        "\n",
        "    modelx = lgb.LGBMRegressor(objective='root_mean_squared_error',boosting_type='gbdt',\n",
        "                               num_leaves=90,n_estimators=50000,learning_rate=0.1)\n",
        "    modelx.fit(X_train, y_trainx, eval_set=[(X_valid, y_validx)], eval_metric='rmse',\n",
        "               early_stopping_rounds=5)\n",
        "\n",
        "    modely = lgb.LGBMRegressor(objective='root_mean_squared_error',boosting_type='gbdt',\n",
        "                               num_leaves=90,n_estimators=50000,learning_rate=0.1)\n",
        "    modely.fit(X_train, y_trainy, eval_set=[(X_valid, y_validy)], eval_metric='rmse',\n",
        "               early_stopping_rounds=5)\n",
        "\n"
      ],
      "metadata": {
        "id": "gXSPIo6gZC8r"
      },
      "execution_count": null,
      "outputs": []
    },
    {
      "cell_type": "code",
      "source": [
        "#testing different numbers of leaves and estimators\n",
        "evaldata = []\n",
        "for i in [100, 115, 125, 127, 150]:\n",
        "    for n in [50,60,75,90,100]:\n",
        "        modely = lgb.LGBMRegressor(n_estimators=n, num_leaves=i, n_jobs=1)\n",
        "        gkf = sk.model_selection.GroupKFold()\n",
        "        scores = sk.model_selection.cross_val_score(\n",
        "           modely, x_train, y_trainy, scoring='neg_mean_squared_error',\n",
        "           cv=gkf, groups=data.iloc[:,-1], n_jobs=5)\n",
        "\n",
        "        evaldata.append([i, n, scores.mean()] )"
      ],
      "metadata": {
        "id": "nbjFlmMfYnb7"
      },
      "execution_count": null,
      "outputs": []
    }
  ]
}