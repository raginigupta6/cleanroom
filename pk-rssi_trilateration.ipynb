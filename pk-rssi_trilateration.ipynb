{
  "nbformat": 4,
  "nbformat_minor": 0,
  "metadata": {
    "colab": {
      "name": "trilat.ipynb",
      "provenance": []
    },
    "kernelspec": {
      "name": "python3",
      "display_name": "Python 3"
    },
    "language_info": {
      "name": "python"
    }
  },
  "cells": [
    {
      "cell_type": "code",
      "metadata": {
        "id": "6UWtpz_QmrPG"
      },
      "source": [
        "#imports\n",
        "import numpy as np\n",
        "import scipy as sp\n",
        "import matplotlib.pyplot as plt\n",
        "import pandas as pd"
      ],
      "execution_count": null,
      "outputs": []
    },
    {
      "cell_type": "code",
      "metadata": {
        "id": "Doiz-sk7auPF"
      },
      "source": [
        "protocol = 'BLE'"
      ],
      "execution_count": null,
      "outputs": []
    },
    {
      "cell_type": "code",
      "metadata": {
        "id": "3GrzGJ1zpLgn"
      },
      "source": [
        "#data parsing\n",
        "#NOTE: would not recommend using original dataset\n",
        "#since ground truths labelling seems to be off\n",
        "\n",
        "#scenario 3\n",
        "# Scenario 1 was a 6.0 x 5.5 m meeting room. \n",
        "# This area was a high noise environment as additional transmitting devices were placed \n",
        "# around the environment in order to create interference in the signals. \n",
        "# There were 16 fingerprints gathered with a larger distance selected between the points. \n",
        "\n",
        "fingerprints = {}\n",
        "for i in range(1, 40+1):\n",
        "  fingerprints[i] = pd.read_csv( str(i)+ '.txt', names=['Node', 'RSSI'], delimiter=':')\n",
        "\n"
      ],
      "execution_count": null,
      "outputs": []
    },
    {
      "cell_type": "code",
      "metadata": {
        "id": "sxZBoReIsYCH"
      },
      "source": [
        "ground_truth_coords = pd.read_excel('Database_Scenario3.xlsx', sheet_name=protocol)\n"
      ],
      "execution_count": null,
      "outputs": []
    },
    {
      "cell_type": "code",
      "metadata": {
        "id": "iIjfdKF9sY7l",
        "colab": {
          "base_uri": "https://localhost:8080/"
        },
        "outputId": "f8ed2a52-28ae-4657-de61-f7eb12d9cc22"
      },
      "source": [
        "def ComputeDistance(rssi):\n",
        "  return 10**((-RSSI_d0+rssi)/(10*N))\n",
        "\n",
        "def GetDistance(df):\n",
        "  arr = {'Node A':[], 'Node B':[], 'Node C':[]}\n",
        "  for index, datapt in df.iterrows():\n",
        "    dist = datapt['RSSI']\n",
        "    dist = ComputeDistance(datapt['RSSI'])\n",
        "    arr[datapt['Node']].append(dist)\n",
        "  arr_means = {}#{'Node A':('mean':0, 'std':0), 'Node B':('mean':0, 'std':0), 'Node C':('mean':0, 'std':0)}\n",
        "  for node in arr:\n",
        "    lis = np.array(arr[node])\n",
        "    arr_means[node] = {'mean':np.mean(lis), 'std':np.std(lis)}\n",
        "    \n",
        "  return arr_means\n",
        "\n",
        "def LocateDevice():\n",
        "  distances = {}\n",
        "  for dev in fingerprints:\n",
        "      distances[dev] = GetDistance(fingerprints[dev])\n",
        "  return distances \n",
        "\n",
        "distances_1to5 = LocateDevice()\n",
        "\n",
        "#trilateration\n",
        "def trilaterate(location_id, distance_node, Ax1, Ay1, Bx2, By2, Cx3, Cy3):\n",
        "  # Trilateration parameters calculation\n",
        "  # Calculate A, B, C, D, E, and F \n",
        "  r1 = distance_node['Node A']['mean']\n",
        "  r2 = distance_node['Node B']['mean']\n",
        "  r3 = distance_node['Node C']['mean']\n",
        "\n",
        "  A = Bx2*2 - Ax1*2\n",
        "  B = 2*By2 - 2*Ay1\n",
        "  C = r1**2 - r2**2 - Ax1**2 + Bx2**2 - Ay1**2 + By2**2\n",
        "  D = 2*Cx3 - 2*Bx2\n",
        "  E = 2*Cy3 - 2*By2\n",
        "  F = r2**2 - r3**2 - Bx2**2 + Cx3**2 - By2**2 + Cy3**2\n",
        "  xpt = (C*E - F*B) / (E*A - B*D)\n",
        "  ypt = (C*D - A*F) / (B*D - A*E)\n",
        "  \n",
        "  # print(location_id, ': X=', xpt, ', Y=', ypt )\n",
        "  return(xpt, ypt)\n",
        "\n",
        "def trilaterating(Ax1, Ay1, Bx2, By2, Cx3, Cy3):\n",
        "\n",
        "  RSSI_d0 = -65\n",
        "  N = (-71-(-65))/(10*np.log10(2))\n",
        "\n",
        "  x_coords = []\n",
        "  y_coords = []\n",
        "  labels = list(np.arange(39)+1)\n",
        "  for location in distances_1to5:\n",
        "    x_location, y_location = trilaterate(location, distances_1to5[location],Ax1, Ay1, Bx2, By2, Cx3, Cy3)\n",
        "    x_coords.append(x_location)\n",
        "    y_coords.append(y_location)\n",
        "  # plotting error:\n",
        "  err = 0.0\n",
        "  for i in range(0, 40):\n",
        "    x = ground_truth_coords['x'][i]\n",
        "    y = ground_truth_coords['y'][i]\n",
        "    err+= (abs(x_coords[i] -x)**2 + abs(y_coords[i]-y)**2)**(0.5)\n",
        "\n",
        "  err /= 40.0\n",
        "  print(err)\n",
        "\n",
        "# Ax1 =0\n",
        "# Ay1 =0\n",
        "\n",
        "# # AP2\n",
        "# Bx2 = 4.8125 \n",
        "# By2 = 2.492\n",
        "\n",
        "# # AP3\n",
        "# Cx3 =9.625 \n",
        "# Cy3 = 0\n",
        "\n",
        "\n",
        "trilaterating(0,0,9.625,0,4.8125,2.493)\n",
        "\n"
      ],
      "execution_count": null,
      "outputs": [
        {
          "output_type": "stream",
          "name": "stdout",
          "text": [
            "4.26959478605338\n"
          ]
        }
      ]
    },
    {
      "cell_type": "code",
      "source": [
        ""
      ],
      "metadata": {
        "id": "Txv24l7zYioQ"
      },
      "execution_count": null,
      "outputs": []
    }
  ]
}